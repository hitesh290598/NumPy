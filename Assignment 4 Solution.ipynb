{
 "cells": [
  {
   "cell_type": "markdown",
   "metadata": {},
   "source": [
    "#### 1. Find Factorial\n",
    "\n",
    "* Using numpy library and its functions find the factorial of all numbers from 1 till 'n'\n",
    "* 'n' is the input from the user\n",
    "* For eg.: Input = 5\n",
    "* Output should be [1!, 2!, 3!, 4!, 5!] i.e. [1,2,6,24,120]"
   ]
  },
  {
   "cell_type": "code",
   "execution_count": 1,
   "metadata": {},
   "outputs": [],
   "source": [
    "import numpy as np"
   ]
  },
  {
   "cell_type": "code",
   "execution_count": 5,
   "metadata": {},
   "outputs": [],
   "source": [
    "def factorial(n, *, method = 1):\n",
    "    \"\"\"This function achieves same results using two different numpy functions.\"\"\"\n",
    "    \n",
    "    if method == 1:\n",
    "        # using aggregate function\n",
    "        return np.multiply.accumulate(np.arange(1,n+1))\n",
    "    \n",
    "    elif method == 2:\n",
    "        # using cumprod function\n",
    "        return np.cumprod(np.arange(1,n+1))"
   ]
  },
  {
   "cell_type": "code",
   "execution_count": 6,
   "metadata": {},
   "outputs": [
    {
     "name": "stdout",
     "output_type": "stream",
     "text": [
      "Enter a Number: 5\n",
      "The factorial of all integers from 1 to  5  is  [  1   2   6  24 120]\n",
      "The factorial of all integers from 1 to  5  is  [  1   2   6  24 120]\n"
     ]
    }
   ],
   "source": [
    "n = int(input(\"Enter a Number: \"))\n",
    "\n",
    "print(\"The factorial of all integers from 1 to \", n, \" is \", factorial(n)) # using aggregate function\n",
    "print(\"The factorial of all integers from 1 to \", n, \" is \", factorial(n, method = 2)) # using cumprod function"
   ]
  },
  {
   "cell_type": "markdown",
   "metadata": {},
   "source": [
    "#### 2. Summarizing our data\n",
    "\n",
    "* Write a function that returns a summary of our data.\n",
    "* The function should return\n",
    "    * Minimum value\n",
    "    * Maximum Value\n",
    "    * Mean\n",
    "    * 1st Quartile i.e. 25th percentile\n",
    "    * 2nd Quartile i.e. Median\n",
    "    * 3rd Quartile i.e. 75th percentile\n",
    "    * Variance\n",
    "    * Standard Deviation\n",
    "* Take the data as an input from the csv file using pandas library\n",
    "* **Note:** .csv file is attached with this notebook."
   ]
  },
  {
   "cell_type": "code",
   "execution_count": 6,
   "metadata": {},
   "outputs": [],
   "source": [
    "import numpy as np\n",
    "import pandas as pd"
   ]
  },
  {
   "cell_type": "code",
   "execution_count": 7,
   "metadata": {},
   "outputs": [],
   "source": [
    "def summary(data):\n",
    "    print(\"Min         : \", np.min(data))\n",
    "    print(\"Max         : \", np.max(data))\n",
    "    print(\"Mean        : \", np.mean(data))\n",
    "    print(\"1st Quartile: \", np.percentile(data, 25))\n",
    "    print(\"Median      : \", np.median(data))\n",
    "    print(\"3rd Quartile: \", np.percentile(data, 75))\n",
    "    print(\"Var         : \", np.var(data))\n",
    "    print(\"Std         : \", np.std(data))"
   ]
  },
  {
   "cell_type": "code",
   "execution_count": 11,
   "metadata": {},
   "outputs": [
    {
     "data": {
      "text/plain": [
       "array([428.  , 989.  , 662.  , 723.  , 957.  , 256.  , 931.  , 376.  ,\n",
       "       837.  , 539.  , 763.  , 458.  , 749.  , 340.  , 522.  , 806.  ,\n",
       "       412.  , 687.  , 941.  , 973.  , 757.  , 927.  , 459.  ,   3.32,\n",
       "       445.  ,  92.2 , 248.  , 597.  , 153.  , 739.  ])"
      ]
     },
     "execution_count": 11,
     "metadata": {},
     "output_type": "execute_result"
    }
   ],
   "source": [
    "data = pd.read_csv(\"./data.csv\")['Values'].values\n",
    "data"
   ]
  },
  {
   "cell_type": "code",
   "execution_count": 12,
   "metadata": {},
   "outputs": [
    {
     "name": "stdout",
     "output_type": "stream",
     "text": [
      "Min         :  3.32\n",
      "Max         :  989.0\n",
      "Mean        :  592.3173333333333\n",
      "1st Quartile:  416.0\n",
      "Median      :  629.5\n",
      "3rd Quartile:  795.25\n",
      "Var         :  75977.03871288888\n",
      "Std         :  275.6393272247066\n"
     ]
    }
   ],
   "source": [
    "summary(data)"
   ]
  },
  {
   "cell_type": "markdown",
   "metadata": {},
   "source": [
    "#### 3. Student Report\n",
    "\n",
    "* Consider the given matrix\n",
    "    * [45,60,55,70,70,38]<br>[39,48,88,42,37,38]<br>[32,77,60,39,71,38]\n",
    "    * Here each row stands for marks obtained by a student and each column represents each subject i.e. 3 students and 6 subjects\n",
    "* Solve following questions for the given marks matrix\n",
    "    * Per subject how many students failed?\n",
    "    * How many subjects did each student fail in?\n",
    "    * What is the highest score in each subject?\n",
    "    * What is the lowest score in each subject?"
   ]
  },
  {
   "cell_type": "code",
   "execution_count": 2,
   "metadata": {},
   "outputs": [],
   "source": [
    "import numpy as np"
   ]
  },
  {
   "cell_type": "code",
   "execution_count": 7,
   "metadata": {},
   "outputs": [
    {
     "data": {
      "text/plain": [
       "array([[45, 60, 55, 70, 70, 38],\n",
       "       [39, 48, 88, 42, 37, 38],\n",
       "       [32, 77, 60, 39, 71, 38]])"
      ]
     },
     "execution_count": 7,
     "metadata": {},
     "output_type": "execute_result"
    }
   ],
   "source": [
    "student_data = np.array([[45,60,55,70,70,38],[39,48,88,42,37,38],[32,77,60,39,71,38]])\n",
    "student_data"
   ]
  },
  {
   "cell_type": "code",
   "execution_count": 11,
   "metadata": {},
   "outputs": [
    {
     "data": {
      "text/plain": [
       "array([2, 0, 0, 1, 1, 3])"
      ]
     },
     "execution_count": 11,
     "metadata": {},
     "output_type": "execute_result"
    }
   ],
   "source": [
    "np.sum(student_data<40,axis =0)"
   ]
  },
  {
   "cell_type": "code",
   "execution_count": 6,
   "metadata": {},
   "outputs": [
    {
     "data": {
      "text/plain": [
       "array([1, 3, 3])"
      ]
     },
     "execution_count": 6,
     "metadata": {},
     "output_type": "execute_result"
    }
   ],
   "source": [
    "np.sum(student_data<40, axis = 1)"
   ]
  },
  {
   "cell_type": "code",
   "execution_count": 8,
   "metadata": {},
   "outputs": [
    {
     "data": {
      "text/plain": [
       "array([45, 77, 88, 70, 71, 38])"
      ]
     },
     "execution_count": 8,
     "metadata": {},
     "output_type": "execute_result"
    }
   ],
   "source": [
    "np.max(student_data, axis = 0)"
   ]
  },
  {
   "cell_type": "code",
   "execution_count": 9,
   "metadata": {},
   "outputs": [
    {
     "data": {
      "text/plain": [
       "array([32, 48, 55, 39, 37, 38])"
      ]
     },
     "execution_count": 9,
     "metadata": {},
     "output_type": "execute_result"
    }
   ],
   "source": [
    "np.min(student_data, axis = 0)"
   ]
  },
  {
   "cell_type": "code",
   "execution_count": 1,
   "metadata": {},
   "outputs": [],
   "source": [
    "import numpy as np"
   ]
  },
  {
   "cell_type": "code",
   "execution_count": 2,
   "metadata": {},
   "outputs": [
    {
     "name": "stdout",
     "output_type": "stream",
     "text": [
      "Help on built-in function accumulate:\n",
      "\n",
      "accumulate(...) method of numpy.ufunc instance\n",
      "    accumulate(array, axis=0, dtype=None, out=None)\n",
      "    \n",
      "    Accumulate the result of applying the operator to all elements.\n",
      "    \n",
      "    For a one-dimensional array, accumulate produces results equivalent to::\n",
      "    \n",
      "      r = np.empty(len(A))\n",
      "      t = op.identity        # op = the ufunc being applied to A's  elements\n",
      "      for i in range(len(A)):\n",
      "          t = op(t, A[i])\n",
      "          r[i] = t\n",
      "      return r\n",
      "    \n",
      "    For example, add.accumulate() is equivalent to np.cumsum().\n",
      "    \n",
      "    For a multi-dimensional array, accumulate is applied along only one\n",
      "    axis (axis zero by default; see Examples below) so repeated use is\n",
      "    necessary if one wants to accumulate over multiple axes.\n",
      "    \n",
      "    Parameters\n",
      "    ----------\n",
      "    array : array_like\n",
      "        The array to act on.\n",
      "    axis : int, optional\n",
      "        The axis along which to apply the accumulation; default is zero.\n",
      "    dtype : data-type code, optional\n",
      "        The data-type used to represent the intermediate results. Defaults\n",
      "        to the data-type of the output array if such is provided, or the\n",
      "        the data-type of the input array if no output array is provided.\n",
      "    out : ndarray, None, or tuple of ndarray and None, optional\n",
      "        A location into which the result is stored. If not provided or `None`,\n",
      "        a freshly-allocated array is returned. For consistency with\n",
      "        :ref:`ufunc.__call__`, if given as a keyword, this may be wrapped in a\n",
      "        1-element tuple.\n",
      "    \n",
      "        .. versionchanged:: 1.13.0\n",
      "           Tuples are allowed for keyword argument.\n",
      "    \n",
      "    Returns\n",
      "    -------\n",
      "    r : ndarray\n",
      "        The accumulated values. If `out` was supplied, `r` is a reference to\n",
      "        `out`.\n",
      "    \n",
      "    Examples\n",
      "    --------\n",
      "    1-D array examples:\n",
      "    \n",
      "    >>> np.add.accumulate([2, 3, 5])\n",
      "    array([ 2,  5, 10])\n",
      "    >>> np.multiply.accumulate([2, 3, 5])\n",
      "    array([ 2,  6, 30])\n",
      "    \n",
      "    2-D array examples:\n",
      "    \n",
      "    >>> I = np.eye(2)\n",
      "    >>> I\n",
      "    array([[ 1.,  0.],\n",
      "           [ 0.,  1.]])\n",
      "    \n",
      "    Accumulate along axis 0 (rows), down columns:\n",
      "    \n",
      "    >>> np.add.accumulate(I, 0)\n",
      "    array([[ 1.,  0.],\n",
      "           [ 1.,  1.]])\n",
      "    >>> np.add.accumulate(I) # no axis specified = axis zero\n",
      "    array([[ 1.,  0.],\n",
      "           [ 1.,  1.]])\n",
      "    \n",
      "    Accumulate along axis 1 (columns), through rows:\n",
      "    \n",
      "    >>> np.add.accumulate(I, 1)\n",
      "    array([[ 1.,  1.],\n",
      "           [ 0.,  1.]])\n",
      "\n"
     ]
    }
   ],
   "source": [
    "help(np.multiply.accumulate)"
   ]
  },
  {
   "cell_type": "code",
   "execution_count": 3,
   "metadata": {},
   "outputs": [
    {
     "ename": "AxisError",
     "evalue": "axis 5 is out of bounds for array of dimension 0",
     "output_type": "error",
     "traceback": [
      "\u001b[1;31m---------------------------------------------------------------------------\u001b[0m",
      "\u001b[1;31mAxisError\u001b[0m                                 Traceback (most recent call last)",
      "\u001b[1;32m<ipython-input-3-634d7dc7a687>\u001b[0m in \u001b[0;36m<module>\u001b[1;34m\u001b[0m\n\u001b[1;32m----> 1\u001b[1;33m \u001b[0mnp\u001b[0m\u001b[1;33m.\u001b[0m\u001b[0mmultiply\u001b[0m\u001b[1;33m.\u001b[0m\u001b[0maccumulate\u001b[0m\u001b[1;33m(\u001b[0m\u001b[1;36m1\u001b[0m\u001b[1;33m,\u001b[0m\u001b[1;36m5\u001b[0m\u001b[1;33m)\u001b[0m\u001b[1;33m\u001b[0m\u001b[1;33m\u001b[0m\u001b[0m\n\u001b[0m",
      "\u001b[1;31mAxisError\u001b[0m: axis 5 is out of bounds for array of dimension 0"
     ]
    }
   ],
   "source": [
    "np.multiply.accumulate(5)"
   ]
  },
  {
   "cell_type": "code",
   "execution_count": null,
   "metadata": {},
   "outputs": [],
   "source": []
  }
 ],
 "metadata": {
  "kernelspec": {
   "display_name": "Python 3",
   "language": "python",
   "name": "python3"
  },
  "language_info": {
   "codemirror_mode": {
    "name": "ipython",
    "version": 3
   },
   "file_extension": ".py",
   "mimetype": "text/x-python",
   "name": "python",
   "nbconvert_exporter": "python",
   "pygments_lexer": "ipython3",
   "version": "3.7.3"
  }
 },
 "nbformat": 4,
 "nbformat_minor": 2
}
